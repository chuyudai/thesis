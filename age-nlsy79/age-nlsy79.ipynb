{
 "cells": [
  {
   "cell_type": "code",
   "execution_count": 2,
   "metadata": {},
   "outputs": [],
   "source": [
    "import pandas as pd\n",
    "import age_calc"
   ]
  },
  {
   "cell_type": "code",
   "execution_count": 3,
   "metadata": {},
   "outputs": [],
   "source": [
    "age = pd.read_csv(\"age-nlsy79.csv\")"
   ]
  },
  {
   "cell_type": "code",
   "execution_count": 5,
   "metadata": {},
   "outputs": [
    {
     "data": {
      "text/html": [
       "<div>\n",
       "<style scoped>\n",
       "    .dataframe tbody tr th:only-of-type {\n",
       "        vertical-align: middle;\n",
       "    }\n",
       "\n",
       "    .dataframe tbody tr th {\n",
       "        vertical-align: top;\n",
       "    }\n",
       "\n",
       "    .dataframe thead th {\n",
       "        text-align: right;\n",
       "    }\n",
       "</style>\n",
       "<table border=\"1\" class=\"dataframe\">\n",
       "  <thead>\n",
       "    <tr style=\"text-align: right;\">\n",
       "      <th></th>\n",
       "      <th>R0000100</th>\n",
       "      <th>R0000600</th>\n",
       "      <th>R0175800</th>\n",
       "      <th>R0175900</th>\n",
       "      <th>R0176700</th>\n",
       "      <th>R0176800</th>\n",
       "      <th>R0177600</th>\n",
       "      <th>R0177700</th>\n",
       "      <th>R0178500</th>\n",
       "      <th>R0178600</th>\n",
       "      <th>...</th>\n",
       "      <th>R2303100</th>\n",
       "      <th>R2303200</th>\n",
       "      <th>R2303500</th>\n",
       "      <th>R2303600</th>\n",
       "      <th>R2505300</th>\n",
       "      <th>R2505400</th>\n",
       "      <th>R2505700</th>\n",
       "      <th>R2505800</th>\n",
       "      <th>dad_age</th>\n",
       "      <th>mom_age</th>\n",
       "    </tr>\n",
       "  </thead>\n",
       "  <tbody>\n",
       "    <tr>\n",
       "      <th>0</th>\n",
       "      <td>1</td>\n",
       "      <td>20</td>\n",
       "      <td>4</td>\n",
       "      <td>54</td>\n",
       "      <td>5</td>\n",
       "      <td>48</td>\n",
       "      <td>6</td>\n",
       "      <td>23</td>\n",
       "      <td>9</td>\n",
       "      <td>71</td>\n",
       "      <td>...</td>\n",
       "      <td>-5</td>\n",
       "      <td>-5</td>\n",
       "      <td>-5</td>\n",
       "      <td>-5</td>\n",
       "      <td>-5</td>\n",
       "      <td>-5</td>\n",
       "      <td>-5</td>\n",
       "      <td>-5</td>\n",
       "      <td>34.0</td>\n",
       "      <td>28.0</td>\n",
       "    </tr>\n",
       "    <tr>\n",
       "      <th>1</th>\n",
       "      <td>2</td>\n",
       "      <td>20</td>\n",
       "      <td>26</td>\n",
       "      <td>39</td>\n",
       "      <td>7</td>\n",
       "      <td>35</td>\n",
       "      <td>17</td>\n",
       "      <td>9</td>\n",
       "      <td>17</td>\n",
       "      <td>7</td>\n",
       "      <td>...</td>\n",
       "      <td>18</td>\n",
       "      <td>-4</td>\n",
       "      <td>20</td>\n",
       "      <td>-4</td>\n",
       "      <td>-4</td>\n",
       "      <td>-4</td>\n",
       "      <td>-4</td>\n",
       "      <td>-4</td>\n",
       "      <td>41.0</td>\n",
       "      <td>39.0</td>\n",
       "    </tr>\n",
       "    <tr>\n",
       "      <th>2</th>\n",
       "      <td>3</td>\n",
       "      <td>17</td>\n",
       "      <td>37</td>\n",
       "      <td>48</td>\n",
       "      <td>5</td>\n",
       "      <td>38</td>\n",
       "      <td>7</td>\n",
       "      <td>16</td>\n",
       "      <td>9</td>\n",
       "      <td>7</td>\n",
       "      <td>...</td>\n",
       "      <td>39</td>\n",
       "      <td>-4</td>\n",
       "      <td>40</td>\n",
       "      <td>-4</td>\n",
       "      <td>-4</td>\n",
       "      <td>-4</td>\n",
       "      <td>-4</td>\n",
       "      <td>-4</td>\n",
       "      <td>23.0</td>\n",
       "      <td>22.0</td>\n",
       "    </tr>\n",
       "    <tr>\n",
       "      <th>3</th>\n",
       "      <td>4</td>\n",
       "      <td>16</td>\n",
       "      <td>37</td>\n",
       "      <td>48</td>\n",
       "      <td>5</td>\n",
       "      <td>38</td>\n",
       "      <td>7</td>\n",
       "      <td>17</td>\n",
       "      <td>7</td>\n",
       "      <td>7</td>\n",
       "      <td>...</td>\n",
       "      <td>39</td>\n",
       "      <td>-4</td>\n",
       "      <td>40</td>\n",
       "      <td>-4</td>\n",
       "      <td>-4</td>\n",
       "      <td>-4</td>\n",
       "      <td>-4</td>\n",
       "      <td>-4</td>\n",
       "      <td>24.0</td>\n",
       "      <td>23.0</td>\n",
       "    </tr>\n",
       "    <tr>\n",
       "      <th>4</th>\n",
       "      <td>5</td>\n",
       "      <td>19</td>\n",
       "      <td>4</td>\n",
       "      <td>44</td>\n",
       "      <td>5</td>\n",
       "      <td>47</td>\n",
       "      <td>0</td>\n",
       "      <td>18</td>\n",
       "      <td>-4</td>\n",
       "      <td>-4</td>\n",
       "      <td>...</td>\n",
       "      <td>-5</td>\n",
       "      <td>-5</td>\n",
       "      <td>-5</td>\n",
       "      <td>-5</td>\n",
       "      <td>34</td>\n",
       "      <td>-4</td>\n",
       "      <td>31</td>\n",
       "      <td>-4</td>\n",
       "      <td>26.0</td>\n",
       "      <td>29.0</td>\n",
       "    </tr>\n",
       "  </tbody>\n",
       "</table>\n",
       "<p>5 rows × 40 columns</p>\n",
       "</div>"
      ],
      "text/plain": [
       "   R0000100  R0000600  R0175800  R0175900  R0176700  R0176800  R0177600  \\\n",
       "0         1        20         4        54         5        48         6   \n",
       "1         2        20        26        39         7        35        17   \n",
       "2         3        17        37        48         5        38         7   \n",
       "3         4        16        37        48         5        38         7   \n",
       "4         5        19         4        44         5        47         0   \n",
       "\n",
       "   R0177700  R0178500  R0178600  ...  R2303100  R2303200  R2303500  R2303600  \\\n",
       "0        23         9        71  ...        -5        -5        -5        -5   \n",
       "1         9        17         7  ...        18        -4        20        -4   \n",
       "2        16         9         7  ...        39        -4        40        -4   \n",
       "3        17         7         7  ...        39        -4        40        -4   \n",
       "4        18        -4        -4  ...        -5        -5        -5        -5   \n",
       "\n",
       "   R2505300  R2505400  R2505700  R2505800  dad_age  mom_age  \n",
       "0        -5        -5        -5        -5     34.0     28.0  \n",
       "1        -4        -4        -4        -4     41.0     39.0  \n",
       "2        -4        -4        -4        -4     23.0     22.0  \n",
       "3        -4        -4        -4        -4     24.0     23.0  \n",
       "4        34        -4        31        -4     26.0     29.0  \n",
       "\n",
       "[5 rows x 40 columns]"
      ]
     },
     "execution_count": 5,
     "metadata": {},
     "output_type": "execute_result"
    }
   ],
   "source": [
    "age.head()"
   ]
  },
  {
   "cell_type": "code",
   "execution_count": 4,
   "metadata": {},
   "outputs": [],
   "source": [
    "age_calc.dad_age_at_birth(age)\n",
    "age_calc.mom_age_at_birth(age)"
   ]
  },
  {
   "cell_type": "code",
   "execution_count": 6,
   "metadata": {},
   "outputs": [],
   "source": [
    "age[['R0000100', 'dad_age', 'mom_age']].to_csv(\"p_age_cleaned.csv\")"
   ]
  },
  {
   "cell_type": "code",
   "execution_count": 5,
   "metadata": {},
   "outputs": [],
   "source": [
    "# FROM NLSY79 guide: This program, and the similar one for mothers, results in an age for almost 77 percent of fathers and almost 87 percent of mothers."
   ]
  },
  {
   "cell_type": "code",
   "execution_count": 6,
   "metadata": {},
   "outputs": [
    {
     "name": "stdout",
     "output_type": "stream",
     "text": [
      "The percentage of non-NaN values in 'mom_age' is 86.58%\n",
      "The percentage of teenage mom where 'mom_age' < 21 is 16.87%\n"
     ]
    }
   ],
   "source": [
    "age_calc.age_at_birth_stats(age,\"mom\")"
   ]
  },
  {
   "cell_type": "code",
   "execution_count": 7,
   "metadata": {},
   "outputs": [
    {
     "name": "stdout",
     "output_type": "stream",
     "text": [
      "The percentage of non-NaN values in 'dad_age' is 77.61%\n",
      "The percentage of teenage dad where 'dad_age' < 21 is 5.97%\n"
     ]
    }
   ],
   "source": [
    "age_calc.age_at_birth_stats(age,\"dad\")"
   ]
  }
 ],
 "metadata": {
  "kernelspec": {
   "display_name": "Python 3",
   "language": "python",
   "name": "python3"
  },
  "language_info": {
   "codemirror_mode": {
    "name": "ipython",
    "version": 3
   },
   "file_extension": ".py",
   "mimetype": "text/x-python",
   "name": "python",
   "nbconvert_exporter": "python",
   "pygments_lexer": "ipython3",
   "version": "3.9.6"
  }
 },
 "nbformat": 4,
 "nbformat_minor": 2
}
