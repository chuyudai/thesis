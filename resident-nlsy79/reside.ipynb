{
 "cells": [
  {
   "cell_type": "code",
   "execution_count": 1,
   "metadata": {},
   "outputs": [],
   "source": [
    "import pandas as pd"
   ]
  },
  {
   "cell_type": "code",
   "execution_count": 2,
   "metadata": {},
   "outputs": [],
   "source": [
    "reside = pd.read_csv(\"resident_parent.csv\")\n",
    "other = pd.read_csv(\"other_reside.csv\")"
   ]
  },
  {
   "cell_type": "code",
   "execution_count": 3,
   "metadata": {},
   "outputs": [
    {
     "data": {
      "text/html": [
       "<div>\n",
       "<style scoped>\n",
       "    .dataframe tbody tr th:only-of-type {\n",
       "        vertical-align: middle;\n",
       "    }\n",
       "\n",
       "    .dataframe tbody tr th {\n",
       "        vertical-align: top;\n",
       "    }\n",
       "\n",
       "    .dataframe thead th {\n",
       "        text-align: right;\n",
       "    }\n",
       "</style>\n",
       "<table border=\"1\" class=\"dataframe\">\n",
       "  <thead>\n",
       "    <tr style=\"text-align: right;\">\n",
       "      <th></th>\n",
       "      <th>R0000100</th>\n",
       "      <th>R2737900</th>\n",
       "      <th>R2738000</th>\n",
       "      <th>R2738100</th>\n",
       "      <th>R2738200</th>\n",
       "      <th>R2738300</th>\n",
       "      <th>R2738500</th>\n",
       "    </tr>\n",
       "  </thead>\n",
       "  <tbody>\n",
       "    <tr>\n",
       "      <th>0</th>\n",
       "      <td>1</td>\n",
       "      <td>-5</td>\n",
       "      <td>-5</td>\n",
       "      <td>-5</td>\n",
       "      <td>-5</td>\n",
       "      <td>-5</td>\n",
       "      <td>-5</td>\n",
       "    </tr>\n",
       "    <tr>\n",
       "      <th>1</th>\n",
       "      <td>2</td>\n",
       "      <td>1</td>\n",
       "      <td>-4</td>\n",
       "      <td>-4</td>\n",
       "      <td>-4</td>\n",
       "      <td>-4</td>\n",
       "      <td>-4</td>\n",
       "    </tr>\n",
       "    <tr>\n",
       "      <th>2</th>\n",
       "      <td>3</td>\n",
       "      <td>0</td>\n",
       "      <td>1</td>\n",
       "      <td>0</td>\n",
       "      <td>0</td>\n",
       "      <td>6</td>\n",
       "      <td>2</td>\n",
       "    </tr>\n",
       "    <tr>\n",
       "      <th>3</th>\n",
       "      <td>4</td>\n",
       "      <td>1</td>\n",
       "      <td>-4</td>\n",
       "      <td>-4</td>\n",
       "      <td>-4</td>\n",
       "      <td>-4</td>\n",
       "      <td>-4</td>\n",
       "    </tr>\n",
       "    <tr>\n",
       "      <th>4</th>\n",
       "      <td>5</td>\n",
       "      <td>1</td>\n",
       "      <td>-4</td>\n",
       "      <td>-4</td>\n",
       "      <td>-4</td>\n",
       "      <td>-4</td>\n",
       "      <td>-4</td>\n",
       "    </tr>\n",
       "  </tbody>\n",
       "</table>\n",
       "</div>"
      ],
      "text/plain": [
       "   R0000100  R2737900  R2738000  R2738100  R2738200  R2738300  R2738500\n",
       "0         1        -5        -5        -5        -5        -5        -5\n",
       "1         2         1        -4        -4        -4        -4        -4\n",
       "2         3         0         1         0         0         6         2\n",
       "3         4         1        -4        -4        -4        -4        -4\n",
       "4         5         1        -4        -4        -4        -4        -4"
      ]
     },
     "execution_count": 3,
     "metadata": {},
     "output_type": "execute_result"
    }
   ],
   "source": [
    "reside.head()"
   ]
  },
  {
   "cell_type": "code",
   "execution_count": 4,
   "metadata": {},
   "outputs": [],
   "source": [
    "reside['lived_w_both_parent'] = reside['R2737900'].apply(\n",
    "    lambda x: 1 if x == 1 else (0 if x == 0 else pd.NA)\n",
    ")"
   ]
  },
  {
   "cell_type": "code",
   "execution_count": 5,
   "metadata": {},
   "outputs": [],
   "source": [
    "reside['lived_w_step_parent'] = reside['R2738000'].apply(\n",
    "    lambda x: 1 if x == 1 else (0 if x == 0 else pd.NA)\n",
    ")"
   ]
  },
  {
   "cell_type": "code",
   "execution_count": 6,
   "metadata": {},
   "outputs": [],
   "source": [
    "reside['lived_w_adopt_parent'] = reside['R2738100'].apply(\n",
    "    lambda x: 1 if x == 1 else (0 if x == 0 else pd.NA)\n",
    ")"
   ]
  },
  {
   "cell_type": "code",
   "execution_count": 7,
   "metadata": {},
   "outputs": [],
   "source": [
    "# merge 1==parent, 2==step parent, 3==adoptive parent"
   ]
  },
  {
   "cell_type": "code",
   "execution_count": 8,
   "metadata": {},
   "outputs": [],
   "source": [
    "def determine_parent_type(row):\n",
    "    if row['R2737900'] == 1:\n",
    "        return 1  # Parent\n",
    "    elif row['R2738000'] == 1:\n",
    "        return 2  # Stepparent\n",
    "    elif row['R2738100'] == 1:\n",
    "        return 3  # Adoptive parent\n",
    "    elif (row['R2737900'] == 0 and row['R2738000'] == 0 and row['R2738100'] == 0):\n",
    "        return 0  # Never with parent\n",
    "    else:\n",
    "        return pd.NA  # Not defined"
   ]
  },
  {
   "cell_type": "code",
   "execution_count": 9,
   "metadata": {},
   "outputs": [
    {
     "data": {
      "text/plain": [
       "reside_parent_type\n",
       "1      6258\n",
       "0      2659\n",
       "NaN    2278\n",
       "2      1333\n",
       "3       158\n",
       "Name: count, dtype: int64"
      ]
     },
     "execution_count": 9,
     "metadata": {},
     "output_type": "execute_result"
    }
   ],
   "source": [
    "reside['reside_parent_type'] = reside.apply(determine_parent_type, axis=1)\n",
    "reside['reside_parent_type'] = reside['reside_parent_type'].astype('category')\n",
    "\n",
    "reside['reside_parent_type'].value_counts(dropna=False)"
   ]
  },
  {
   "cell_type": "code",
   "execution_count": 10,
   "metadata": {},
   "outputs": [],
   "source": [
    "reside['years_living_w_parent'] = reside['R2738300'].apply(\n",
    "    lambda x: x if pd.notna(x) and 1 <= x < 18 else (18 if x==-4 else pd.NA)\n",
    ")"
   ]
  },
  {
   "cell_type": "code",
   "execution_count": 22,
   "metadata": {},
   "outputs": [],
   "source": [
    "def years_with_non_parent(df,x, y, relationship):\n",
    "    header = 'years_w_' + relationship\n",
    "    if header not in df.columns:\n",
    "        df[header] = 0\n",
    "\n",
    "    while y <= x:\n",
    "        years = 18\n",
    "        column = 'R' + str(y)\n",
    "\n",
    "        for index, row in df.iterrows():\n",
    "            if row[column] == 1:\n",
    "                df.at[index, header] = years\n",
    "            elif row[column] == 0:\n",
    "                df.at[index, header] = 0\n",
    "            elif row[column] == -4:\n",
    "                df.at[index, header] = 0\n",
    "            y -= 100\n",
    "            years -= 1"
   ]
  },
  {
   "cell_type": "code",
   "execution_count": 23,
   "metadata": {},
   "outputs": [],
   "source": [
    "#grandparent\n",
    "years_with_non_parent(other,2849200, 2851000,'grandparent')"
   ]
  },
  {
   "cell_type": "code",
   "execution_count": 24,
   "metadata": {},
   "outputs": [
    {
     "data": {
      "text/plain": [
       "0        0\n",
       "1        0\n",
       "2        0\n",
       "3        0\n",
       "4        0\n",
       "        ..\n",
       "12681    0\n",
       "12682    0\n",
       "12683    0\n",
       "12684    0\n",
       "12685    0\n",
       "Name: years_w_grandparent, Length: 12686, dtype: int64"
      ]
     },
     "execution_count": 24,
     "metadata": {},
     "output_type": "execute_result"
    }
   ],
   "source": [
    "other['years_w_grandparent']"
   ]
  },
  {
   "cell_type": "code",
   "execution_count": 26,
   "metadata": {},
   "outputs": [
    {
     "data": {
      "text/plain": [
       "0.0"
      ]
     },
     "execution_count": 26,
     "metadata": {},
     "output_type": "execute_result"
    }
   ],
   "source": [
    "other['years_w_grandparent'].mean()"
   ]
  },
  {
   "cell_type": "code",
   "execution_count": 14,
   "metadata": {},
   "outputs": [],
   "source": [
    "\n",
    "for x in range (2849200, 2851000):\n",
    "    column = 'R'+ str(x)\n"
   ]
  },
  {
   "cell_type": "code",
   "execution_count": 15,
   "metadata": {},
   "outputs": [
    {
     "data": {
      "text/html": [
       "<div>\n",
       "<style scoped>\n",
       "    .dataframe tbody tr th:only-of-type {\n",
       "        vertical-align: middle;\n",
       "    }\n",
       "\n",
       "    .dataframe tbody tr th {\n",
       "        vertical-align: top;\n",
       "    }\n",
       "\n",
       "    .dataframe thead th {\n",
       "        text-align: right;\n",
       "    }\n",
       "</style>\n",
       "<table border=\"1\" class=\"dataframe\">\n",
       "  <thead>\n",
       "    <tr style=\"text-align: right;\">\n",
       "      <th></th>\n",
       "      <th>R0000100</th>\n",
       "      <th>R2849200</th>\n",
       "      <th>R2849300</th>\n",
       "      <th>R2849400</th>\n",
       "      <th>R2849500</th>\n",
       "      <th>R2849600</th>\n",
       "      <th>R2849700</th>\n",
       "      <th>R2849800</th>\n",
       "      <th>R2849900</th>\n",
       "      <th>R2850000</th>\n",
       "      <th>...</th>\n",
       "      <th>R2865400</th>\n",
       "      <th>R2865500</th>\n",
       "      <th>R2865600</th>\n",
       "      <th>R2865700</th>\n",
       "      <th>R2865800</th>\n",
       "      <th>R2865900</th>\n",
       "      <th>R2866000</th>\n",
       "      <th>R2866100</th>\n",
       "      <th>R2866200</th>\n",
       "      <th>years_w_grandparent</th>\n",
       "    </tr>\n",
       "  </thead>\n",
       "  <tbody>\n",
       "    <tr>\n",
       "      <th>0</th>\n",
       "      <td>1</td>\n",
       "      <td>-5</td>\n",
       "      <td>-5</td>\n",
       "      <td>-5</td>\n",
       "      <td>-5</td>\n",
       "      <td>-5</td>\n",
       "      <td>-5</td>\n",
       "      <td>-5</td>\n",
       "      <td>-5</td>\n",
       "      <td>-5</td>\n",
       "      <td>...</td>\n",
       "      <td>-5</td>\n",
       "      <td>-5</td>\n",
       "      <td>-5</td>\n",
       "      <td>-5</td>\n",
       "      <td>-5</td>\n",
       "      <td>-5</td>\n",
       "      <td>-5</td>\n",
       "      <td>-5</td>\n",
       "      <td>-5</td>\n",
       "      <td>0</td>\n",
       "    </tr>\n",
       "    <tr>\n",
       "      <th>1</th>\n",
       "      <td>2</td>\n",
       "      <td>-4</td>\n",
       "      <td>-4</td>\n",
       "      <td>-4</td>\n",
       "      <td>-4</td>\n",
       "      <td>-4</td>\n",
       "      <td>-4</td>\n",
       "      <td>-4</td>\n",
       "      <td>-4</td>\n",
       "      <td>-4</td>\n",
       "      <td>...</td>\n",
       "      <td>-4</td>\n",
       "      <td>-4</td>\n",
       "      <td>-4</td>\n",
       "      <td>-4</td>\n",
       "      <td>-4</td>\n",
       "      <td>-4</td>\n",
       "      <td>-4</td>\n",
       "      <td>-4</td>\n",
       "      <td>-4</td>\n",
       "      <td>0</td>\n",
       "    </tr>\n",
       "    <tr>\n",
       "      <th>2</th>\n",
       "      <td>3</td>\n",
       "      <td>-4</td>\n",
       "      <td>-4</td>\n",
       "      <td>-4</td>\n",
       "      <td>-4</td>\n",
       "      <td>-4</td>\n",
       "      <td>-4</td>\n",
       "      <td>-4</td>\n",
       "      <td>-4</td>\n",
       "      <td>-4</td>\n",
       "      <td>...</td>\n",
       "      <td>-4</td>\n",
       "      <td>-4</td>\n",
       "      <td>-4</td>\n",
       "      <td>-4</td>\n",
       "      <td>-4</td>\n",
       "      <td>-4</td>\n",
       "      <td>-4</td>\n",
       "      <td>-4</td>\n",
       "      <td>-4</td>\n",
       "      <td>0</td>\n",
       "    </tr>\n",
       "    <tr>\n",
       "      <th>3</th>\n",
       "      <td>4</td>\n",
       "      <td>-4</td>\n",
       "      <td>-4</td>\n",
       "      <td>-4</td>\n",
       "      <td>-4</td>\n",
       "      <td>-4</td>\n",
       "      <td>-4</td>\n",
       "      <td>-4</td>\n",
       "      <td>-4</td>\n",
       "      <td>-4</td>\n",
       "      <td>...</td>\n",
       "      <td>-4</td>\n",
       "      <td>-4</td>\n",
       "      <td>-4</td>\n",
       "      <td>-4</td>\n",
       "      <td>-4</td>\n",
       "      <td>-4</td>\n",
       "      <td>-4</td>\n",
       "      <td>-4</td>\n",
       "      <td>-4</td>\n",
       "      <td>0</td>\n",
       "    </tr>\n",
       "    <tr>\n",
       "      <th>4</th>\n",
       "      <td>5</td>\n",
       "      <td>-4</td>\n",
       "      <td>-4</td>\n",
       "      <td>-4</td>\n",
       "      <td>-4</td>\n",
       "      <td>-4</td>\n",
       "      <td>-4</td>\n",
       "      <td>-4</td>\n",
       "      <td>-4</td>\n",
       "      <td>-4</td>\n",
       "      <td>...</td>\n",
       "      <td>-4</td>\n",
       "      <td>-4</td>\n",
       "      <td>-4</td>\n",
       "      <td>-4</td>\n",
       "      <td>-4</td>\n",
       "      <td>-4</td>\n",
       "      <td>-4</td>\n",
       "      <td>-4</td>\n",
       "      <td>-4</td>\n",
       "      <td>0</td>\n",
       "    </tr>\n",
       "  </tbody>\n",
       "</table>\n",
       "<p>5 rows × 173 columns</p>\n",
       "</div>"
      ],
      "text/plain": [
       "   R0000100  R2849200  R2849300  R2849400  R2849500  R2849600  R2849700  \\\n",
       "0         1        -5        -5        -5        -5        -5        -5   \n",
       "1         2        -4        -4        -4        -4        -4        -4   \n",
       "2         3        -4        -4        -4        -4        -4        -4   \n",
       "3         4        -4        -4        -4        -4        -4        -4   \n",
       "4         5        -4        -4        -4        -4        -4        -4   \n",
       "\n",
       "   R2849800  R2849900  R2850000  ...  R2865400  R2865500  R2865600  R2865700  \\\n",
       "0        -5        -5        -5  ...        -5        -5        -5        -5   \n",
       "1        -4        -4        -4  ...        -4        -4        -4        -4   \n",
       "2        -4        -4        -4  ...        -4        -4        -4        -4   \n",
       "3        -4        -4        -4  ...        -4        -4        -4        -4   \n",
       "4        -4        -4        -4  ...        -4        -4        -4        -4   \n",
       "\n",
       "   R2865800  R2865900  R2866000  R2866100  R2866200  years_w_grandparent  \n",
       "0        -5        -5        -5        -5        -5                    0  \n",
       "1        -4        -4        -4        -4        -4                    0  \n",
       "2        -4        -4        -4        -4        -4                    0  \n",
       "3        -4        -4        -4        -4        -4                    0  \n",
       "4        -4        -4        -4        -4        -4                    0  \n",
       "\n",
       "[5 rows x 173 columns]"
      ]
     },
     "execution_count": 15,
     "metadata": {},
     "output_type": "execute_result"
    }
   ],
   "source": [
    "other.head()"
   ]
  },
  {
   "cell_type": "code",
   "execution_count": 16,
   "metadata": {},
   "outputs": [],
   "source": [
    "#reside[[\"R0000100\",'reside_parent_type',\"age_stopped_living_w_parent\"]].to_csv('reside_cleaned.csv', index=False)"
   ]
  }
 ],
 "metadata": {
  "kernelspec": {
   "display_name": "Python 3",
   "language": "python",
   "name": "python3"
  },
  "language_info": {
   "codemirror_mode": {
    "name": "ipython",
    "version": 3
   },
   "file_extension": ".py",
   "mimetype": "text/x-python",
   "name": "python",
   "nbconvert_exporter": "python",
   "pygments_lexer": "ipython3",
   "version": "3.9.6"
  }
 },
 "nbformat": 4,
 "nbformat_minor": 2
}
