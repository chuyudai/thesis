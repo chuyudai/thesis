{
 "cells": [
  {
   "cell_type": "code",
   "execution_count": 12,
   "metadata": {},
   "outputs": [],
   "source": [
    "import pandas as pd"
   ]
  },
  {
   "cell_type": "code",
   "execution_count": 13,
   "metadata": {},
   "outputs": [],
   "source": [
    "HGC_YA = pd.read_csv('HGC_ya.csv')"
   ]
  },
  {
   "cell_type": "code",
   "execution_count": 14,
   "metadata": {},
   "outputs": [],
   "source": [
    "final_YA = pd.read_csv('final_YA.csv')"
   ]
  },
  {
   "cell_type": "code",
   "execution_count": 15,
   "metadata": {},
   "outputs": [
    {
     "data": {
      "text/html": [
       "<div>\n",
       "<style scoped>\n",
       "    .dataframe tbody tr th:only-of-type {\n",
       "        vertical-align: middle;\n",
       "    }\n",
       "\n",
       "    .dataframe tbody tr th {\n",
       "        vertical-align: top;\n",
       "    }\n",
       "\n",
       "    .dataframe thead th {\n",
       "        text-align: right;\n",
       "    }\n",
       "</style>\n",
       "<table border=\"1\" class=\"dataframe\">\n",
       "  <thead>\n",
       "    <tr style=\"text-align: right;\">\n",
       "      <th></th>\n",
       "      <th>Unnamed: 0</th>\n",
       "      <th>C0000100</th>\n",
       "      <th>C0000200</th>\n",
       "      <th>C0005700</th>\n",
       "      <th>m_age_ya</th>\n",
       "      <th>m_HGC_ya</th>\n",
       "      <th>dad_distance_ya</th>\n",
       "    </tr>\n",
       "  </thead>\n",
       "  <tbody>\n",
       "    <tr>\n",
       "      <th>0</th>\n",
       "      <td>0</td>\n",
       "      <td>201</td>\n",
       "      <td>2</td>\n",
       "      <td>1993</td>\n",
       "      <td>34</td>\n",
       "      <td>13</td>\n",
       "      <td>0.0</td>\n",
       "    </tr>\n",
       "    <tr>\n",
       "      <th>1</th>\n",
       "      <td>1</td>\n",
       "      <td>202</td>\n",
       "      <td>2</td>\n",
       "      <td>1994</td>\n",
       "      <td>35</td>\n",
       "      <td>13</td>\n",
       "      <td>0.0</td>\n",
       "    </tr>\n",
       "    <tr>\n",
       "      <th>2</th>\n",
       "      <td>2</td>\n",
       "      <td>301</td>\n",
       "      <td>3</td>\n",
       "      <td>1981</td>\n",
       "      <td>19</td>\n",
       "      <td>13</td>\n",
       "      <td>0.0</td>\n",
       "    </tr>\n",
       "    <tr>\n",
       "      <th>3</th>\n",
       "      <td>3</td>\n",
       "      <td>302</td>\n",
       "      <td>3</td>\n",
       "      <td>1983</td>\n",
       "      <td>22</td>\n",
       "      <td>13</td>\n",
       "      <td>0.0</td>\n",
       "    </tr>\n",
       "    <tr>\n",
       "      <th>4</th>\n",
       "      <td>4</td>\n",
       "      <td>303</td>\n",
       "      <td>3</td>\n",
       "      <td>1986</td>\n",
       "      <td>24</td>\n",
       "      <td>13</td>\n",
       "      <td>0.0</td>\n",
       "    </tr>\n",
       "  </tbody>\n",
       "</table>\n",
       "</div>"
      ],
      "text/plain": [
       "   Unnamed: 0  C0000100  C0000200  C0005700  m_age_ya  m_HGC_ya  \\\n",
       "0           0       201         2      1993        34        13   \n",
       "1           1       202         2      1994        35        13   \n",
       "2           2       301         3      1981        19        13   \n",
       "3           3       302         3      1983        22        13   \n",
       "4           4       303         3      1986        24        13   \n",
       "\n",
       "   dad_distance_ya  \n",
       "0              0.0  \n",
       "1              0.0  \n",
       "2              0.0  \n",
       "3              0.0  \n",
       "4              0.0  "
      ]
     },
     "execution_count": 15,
     "metadata": {},
     "output_type": "execute_result"
    }
   ],
   "source": [
    "final_YA.head()"
   ]
  },
  {
   "cell_type": "code",
   "execution_count": 16,
   "metadata": {},
   "outputs": [],
   "source": [
    "def HGC_transfer_ya(x):\n",
    "    if 1 <= x <= 3:\n",
    "        return x # 1 = some middle school or lower, 2 = some high school, 3 = high schoo grad\n",
    "    elif x == 4:\n",
    "        return 2  # some vocational trainning coded into 2\n",
    "    elif x== 5:\n",
    "        return 3  # complete vocational trainning coded into 3\n",
    "    elif x == 6:\n",
    "        return 4  # some college\n",
    "    elif x == 7 or x == 8:\n",
    "        return 5  # completed college regardless of degree\n",
    "    elif x == 9 or x == 13:\n",
    "        return 6 # some master/postgrad vocational \n",
    "    elif x == 10 or x == 14:\n",
    "        return 7 # complete master/postgrad vocational \n",
    "    elif x == 11:\n",
    "        return 8 # some doctoral\n",
    "    elif x == 12:\n",
    "        return 9 # complete doctoral and above \n",
    "    else:\n",
    "        return pd.NA"
   ]
  },
  {
   "cell_type": "code",
   "execution_count": 17,
   "metadata": {},
   "outputs": [],
   "source": [
    "def HGC_transfer(x):\n",
    "    if x == 0:\n",
    "        return 0\n",
    "    elif 1 <= x <= 6:\n",
    "        return 1  # primary school\n",
    "    elif 7 <= x < 9:\n",
    "        return 2  # some middle school\n",
    "    elif x == 9:\n",
    "        return 3  # completed middle school\n",
    "    elif 10 <= x < 12:\n",
    "        return 4  # some high school\n",
    "    elif x == 12:\n",
    "        return 5  # completed high school or equivalent\n",
    "    elif 13 <= x < 16:\n",
    "        return 6  # some college\n",
    "    elif x == 16:\n",
    "        return 7  # completed college\n",
    "    elif x == 17:\n",
    "        return 8 # some master\n",
    "    elif x == 18:\n",
    "        return 9 # completed master\n",
    "    elif 19 <= x <= 20:\n",
    "        return 10 # doctoral and above \n",
    "    else:\n",
    "        return pd.NA"
   ]
  },
  {
   "cell_type": "code",
   "execution_count": 18,
   "metadata": {},
   "outputs": [],
   "source": [
    "HGC_YA['HGC_ya']=HGC_YA['Y1211300'].apply(lambda x: HGC_transfer_ya(x))"
   ]
  },
  {
   "cell_type": "code",
   "execution_count": 19,
   "metadata": {},
   "outputs": [],
   "source": [
    "final_YA['m_HGC_ya'] = final_YA['m_HGC_ya'].apply(lambda x: HGC_transfer(x))"
   ]
  },
  {
   "cell_type": "code",
   "execution_count": 20,
   "metadata": {},
   "outputs": [],
   "source": [
    "final_YA.to_csv('final_YA.csv')"
   ]
  },
  {
   "cell_type": "code",
   "execution_count": 21,
   "metadata": {},
   "outputs": [],
   "source": [
    "HGC_YA.to_csv('HGC_YA_cleaned.csv')"
   ]
  }
 ],
 "metadata": {
  "kernelspec": {
   "display_name": "Python 3",
   "language": "python",
   "name": "python3"
  },
  "language_info": {
   "codemirror_mode": {
    "name": "ipython",
    "version": 3
   },
   "file_extension": ".py",
   "mimetype": "text/x-python",
   "name": "python",
   "nbconvert_exporter": "python",
   "pygments_lexer": "ipython3",
   "version": "3.9.6"
  }
 },
 "nbformat": 4,
 "nbformat_minor": 2
}
